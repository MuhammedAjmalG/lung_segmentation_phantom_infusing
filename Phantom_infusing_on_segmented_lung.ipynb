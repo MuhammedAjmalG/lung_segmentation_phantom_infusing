{
  "nbformat": 4,
  "nbformat_minor": 0,
  "metadata": {
    "colab": {
      "provenance": [],
      "gpuType": "T4"
    },
    "kernelspec": {
      "name": "python3",
      "display_name": "Python 3"
    },
    "language_info": {
      "name": "python"
    },
    "accelerator": "GPU"
  },
  "cells": [
    {
      "cell_type": "markdown",
      "source": [
        "# Install dependecies"
      ],
      "metadata": {
        "id": "1wI-uMdu3bEe"
      }
    },
    {
      "cell_type": "code",
      "execution_count": 1,
      "metadata": {
        "colab": {
          "base_uri": "https://localhost:8080/"
        },
        "id": "tC0-IEKP3Rg_",
        "outputId": "c1b04fba-8149-4ea5-8fdb-5b6159c0a084"
      },
      "outputs": [
        {
          "output_type": "stream",
          "name": "stdout",
          "text": [
            "\u001b[2K     \u001b[90m━━━━━━━━━━━━━━━━━━━━━━━━━━━━━━━━━━━━━━━━\u001b[0m \u001b[32m52.7/52.7 MB\u001b[0m \u001b[31m11.1 MB/s\u001b[0m eta \u001b[36m0:00:00\u001b[0m\n",
            "\u001b[2K     \u001b[90m━━━━━━━━━━━━━━━━━━━━━━━━━━━━━━━━━━━━━━━━\u001b[0m \u001b[32m12.3/12.3 MB\u001b[0m \u001b[31m63.8 MB/s\u001b[0m eta \u001b[36m0:00:00\u001b[0m\n",
            "\u001b[2K     \u001b[90m━━━━━━━━━━━━━━━━━━━━━━━━━━━━━━━━━━━━━━━━\u001b[0m \u001b[32m1.8/1.8 MB\u001b[0m \u001b[31m62.0 MB/s\u001b[0m eta \u001b[36m0:00:00\u001b[0m\n",
            "\u001b[2K     \u001b[90m━━━━━━━━━━━━━━━━━━━━━━━━━━━━━━━━━━━━━━━━\u001b[0m \u001b[32m1.4/1.4 MB\u001b[0m \u001b[31m63.3 MB/s\u001b[0m eta \u001b[36m0:00:00\u001b[0m\n",
            "\u001b[2K     \u001b[90m━━━━━━━━━━━━━━━━━━━━━━━━━━━━━━━━━━━━━━━━\u001b[0m \u001b[32m92.0/92.0 kB\u001b[0m \u001b[31m7.8 MB/s\u001b[0m eta \u001b[36m0:00:00\u001b[0m\n",
            "\u001b[?25h  Preparing metadata (setup.py) ... \u001b[?25l\u001b[?25hdone\n",
            "\u001b[2K     \u001b[90m━━━━━━━━━━━━━━━━━━━━━━━━━━━━━━━━━━━━━━━━\u001b[0m \u001b[32m318.2/318.2 kB\u001b[0m \u001b[31m23.4 MB/s\u001b[0m eta \u001b[36m0:00:00\u001b[0m\n",
            "\u001b[2K     \u001b[90m━━━━━━━━━━━━━━━━━━━━━━━━━━━━━━━━━━━━━━━━\u001b[0m \u001b[32m75.6/75.6 kB\u001b[0m \u001b[31m6.9 MB/s\u001b[0m eta \u001b[36m0:00:00\u001b[0m\n",
            "\u001b[2K     \u001b[90m━━━━━━━━━━━━━━━━━━━━━━━━━━━━━━━━━━━━━━━━\u001b[0m \u001b[32m145.0/145.0 kB\u001b[0m \u001b[31m5.7 MB/s\u001b[0m eta \u001b[36m0:00:00\u001b[0m\n",
            "\u001b[2K     \u001b[90m━━━━━━━━━━━━━━━━━━━━━━━━━━━━━━━━━━━━━━━━\u001b[0m \u001b[32m10.1/10.1 MB\u001b[0m \u001b[31m56.4 MB/s\u001b[0m eta \u001b[36m0:00:00\u001b[0m\n",
            "\u001b[2K     \u001b[90m━━━━━━━━━━━━━━━━━━━━━━━━━━━━━━━━━━━━━━━━\u001b[0m \u001b[32m62.4/62.4 kB\u001b[0m \u001b[31m7.3 MB/s\u001b[0m eta \u001b[36m0:00:00\u001b[0m\n",
            "\u001b[2K     \u001b[90m━━━━━━━━━━━━━━━━━━━━━━━━━━━━━━━━━━━━━━━━\u001b[0m \u001b[32m129.9/129.9 kB\u001b[0m \u001b[31m2.9 MB/s\u001b[0m eta \u001b[36m0:00:00\u001b[0m\n",
            "\u001b[2K     \u001b[90m━━━━━━━━━━━━━━━━━━━━━━━━━━━━━━━━━━━━━━━━\u001b[0m \u001b[32m77.9/77.9 kB\u001b[0m \u001b[31m7.6 MB/s\u001b[0m eta \u001b[36m0:00:00\u001b[0m\n",
            "\u001b[2K     \u001b[90m━━━━━━━━━━━━━━━━━━━━━━━━━━━━━━━━━━━━━━━━\u001b[0m \u001b[32m58.3/58.3 kB\u001b[0m \u001b[31m6.1 MB/s\u001b[0m eta \u001b[36m0:00:00\u001b[0m\n",
            "\u001b[2K     \u001b[90m━━━━━━━━━━━━━━━━━━━━━━━━━━━━━━━━━━━━━━━━\u001b[0m \u001b[32m71.9/71.9 kB\u001b[0m \u001b[31m8.2 MB/s\u001b[0m eta \u001b[36m0:00:00\u001b[0m\n",
            "\u001b[2K     \u001b[90m━━━━━━━━━━━━━━━━━━━━━━━━━━━━━━━━━━━━━━━━\u001b[0m \u001b[32m53.6/53.6 kB\u001b[0m \u001b[31m4.3 MB/s\u001b[0m eta \u001b[36m0:00:00\u001b[0m\n",
            "\u001b[2K     \u001b[90m━━━━━━━━━━━━━━━━━━━━━━━━━━━━━━━━━━━━━━━━\u001b[0m \u001b[32m6.0/6.0 MB\u001b[0m \u001b[31m42.2 MB/s\u001b[0m eta \u001b[36m0:00:00\u001b[0m\n",
            "\u001b[2K     \u001b[90m━━━━━━━━━━━━━━━━━━━━━━━━━━━━━━━━━━━━━━━━\u001b[0m \u001b[32m21.3/21.3 MB\u001b[0m \u001b[31m49.8 MB/s\u001b[0m eta \u001b[36m0:00:00\u001b[0m\n",
            "\u001b[2K     \u001b[90m━━━━━━━━━━━━━━━━━━━━━━━━━━━━━━━━━━━━━━━━\u001b[0m \u001b[32m307.7/307.7 kB\u001b[0m \u001b[31m33.1 MB/s\u001b[0m eta \u001b[36m0:00:00\u001b[0m\n",
            "\u001b[2K     \u001b[90m━━━━━━━━━━━━━━━━━━━━━━━━━━━━━━━━━━━━━━━━\u001b[0m \u001b[32m341.4/341.4 kB\u001b[0m \u001b[31m41.6 MB/s\u001b[0m eta \u001b[36m0:00:00\u001b[0m\n",
            "\u001b[2K     \u001b[90m━━━━━━━━━━━━━━━━━━━━━━━━━━━━━━━━━━━━━━━━\u001b[0m \u001b[32m3.4/3.4 MB\u001b[0m \u001b[31m88.2 MB/s\u001b[0m eta \u001b[36m0:00:00\u001b[0m\n",
            "\u001b[2K     \u001b[90m━━━━━━━━━━━━━━━━━━━━━━━━━━━━━━━━━━━━━━━━\u001b[0m \u001b[32m1.2/1.2 MB\u001b[0m \u001b[31m74.3 MB/s\u001b[0m eta \u001b[36m0:00:00\u001b[0m\n",
            "\u001b[?25h  Building wheel for ffmpy (setup.py) ... \u001b[?25l\u001b[?25hdone\n"
          ]
        }
      ],
      "source": [
        "!pip install -q lungmask SimpleITK gradio numpy-stl"
      ]
    },
    {
      "cell_type": "markdown",
      "source": [
        "# function to segment lung from the Dicom files"
      ],
      "metadata": {
        "id": "Ar1Lm65w3zvh"
      }
    },
    {
      "cell_type": "code",
      "source": [
        "import numpy as np\n",
        "from lungmask import LMInferer\n",
        "import SimpleITK as sitk\n",
        "import os\n",
        "def stack_lungs_dicom(dcm_folder):\n",
        "    \"stacks the lungs alone after removing the background in the original dicom stack size\"\n",
        "    inferer = LMInferer()\n",
        "    modified_image_masks=[]\n",
        "    for filename in os.listdir(dcm_folder):\n",
        "        if filename.endswith(\".dcm\"):\n",
        "            file_path = os.path.join(dcm_folder, filename)\n",
        "            input_image = sitk.ReadImage(file_path)\n",
        "            segmentation = inferer.apply(input_image)  # Apply lungmask\n",
        "\n",
        "            # Create a mask where lungs are True, background is False\n",
        "            lung_mask = segmentation != 0\n",
        "\n",
        "            # Apply mask to the original image array\n",
        "            image_array = sitk.GetArrayFromImage(input_image)\n",
        "            image_array[~lung_mask] = 0  # Set background pixels to black\n",
        "\n",
        "            modified_image_masks.append(image_array)\n",
        "    volume = np.stack(modified_image_masks, axis=0)\n",
        "    print(volume.shape)\n",
        "    volume = volume.reshape(volume.shape[0], volume.shape[2], volume.shape[3])\n",
        "    print(volume.shape)\n",
        "    volume = volume.transpose(2, 1, 0)\n",
        "    print(volume.shape)\n",
        "    return np.save('lung_with_hu',volume)\n",
        "\n",
        "path_for_lung_dicom = '/content/drive/MyDrive/ajmal/lung segmentation/dicom_images_for_lungs/only_lungs'\n",
        "stack_lungs_dicom(path_for_lung_dicom)\n",
        "lung_with_hu = np.load(\"lung_with_hu.npy\")\n",
        "np.unique(lung_with_hu)"
      ],
      "metadata": {
        "colab": {
          "base_uri": "https://localhost:8080/"
        },
        "id": "NJIJMpyI3xOF",
        "outputId": "3f2fef4c-bfa7-4b84-9a96-820fb98ba1f2"
      },
      "execution_count": 5,
      "outputs": [
        {
          "output_type": "stream",
          "name": "stderr",
          "text": [
            "1it [00:00, 28.64it/s]                  "
          ]
        },
        {
          "output_type": "stream",
          "name": "stdout",
          "text": [
            "lungmask 2024-07-02 05:33:05 Postprocessing\n"
          ]
        },
        {
          "output_type": "stream",
          "name": "stderr",
          "text": [
            "\n",
            "0it [00:00, ?it/s]\n",
            "1it [00:00, 28.78it/s]                  "
          ]
        },
        {
          "output_type": "stream",
          "name": "stdout",
          "text": [
            "lungmask 2024-07-02 05:33:08 Postprocessing\n"
          ]
        },
        {
          "output_type": "stream",
          "name": "stderr",
          "text": [
            "\n",
            "0it [00:00, ?it/s]\n",
            "1it [00:00, 28.51it/s]                  "
          ]
        },
        {
          "output_type": "stream",
          "name": "stdout",
          "text": [
            "lungmask 2024-07-02 05:33:08 Postprocessing\n"
          ]
        },
        {
          "output_type": "stream",
          "name": "stderr",
          "text": [
            "\n",
            "0it [00:00, ?it/s]\n",
            "1it [00:00, 28.08it/s]                  "
          ]
        },
        {
          "output_type": "stream",
          "name": "stdout",
          "text": [
            "lungmask 2024-07-02 05:33:09 Postprocessing\n"
          ]
        },
        {
          "output_type": "stream",
          "name": "stderr",
          "text": [
            "\n",
            "0it [00:00, ?it/s]\n",
            "1it [00:00, 27.27it/s]                  "
          ]
        },
        {
          "output_type": "stream",
          "name": "stdout",
          "text": [
            "lungmask 2024-07-02 05:33:09 Postprocessing\n"
          ]
        },
        {
          "output_type": "stream",
          "name": "stderr",
          "text": [
            "\n",
            "0it [00:00, ?it/s]\n",
            "1it [00:00, 29.20it/s]                  "
          ]
        },
        {
          "output_type": "stream",
          "name": "stdout",
          "text": [
            "lungmask 2024-07-02 05:33:09 Postprocessing\n"
          ]
        },
        {
          "output_type": "stream",
          "name": "stderr",
          "text": [
            "\n",
            "0it [00:00, ?it/s]\n",
            "1it [00:00, 28.33it/s]                  "
          ]
        },
        {
          "output_type": "stream",
          "name": "stdout",
          "text": [
            "lungmask 2024-07-02 05:33:09 Postprocessing\n"
          ]
        },
        {
          "output_type": "stream",
          "name": "stderr",
          "text": [
            "\n",
            "0it [00:00, ?it/s]\n",
            "1it [00:00, 29.10it/s]                  "
          ]
        },
        {
          "output_type": "stream",
          "name": "stdout",
          "text": [
            "lungmask 2024-07-02 05:33:10 Postprocessing\n"
          ]
        },
        {
          "output_type": "stream",
          "name": "stderr",
          "text": [
            "\n",
            "0it [00:00, ?it/s]\n",
            "1it [00:00, 28.72it/s]                  "
          ]
        },
        {
          "output_type": "stream",
          "name": "stdout",
          "text": [
            "lungmask 2024-07-02 05:33:10 Postprocessing\n"
          ]
        },
        {
          "output_type": "stream",
          "name": "stderr",
          "text": [
            "\n",
            "0it [00:00, ?it/s]\n",
            "1it [00:00, 28.59it/s]                  "
          ]
        },
        {
          "output_type": "stream",
          "name": "stdout",
          "text": [
            "lungmask 2024-07-02 05:33:10 Postprocessing\n"
          ]
        },
        {
          "output_type": "stream",
          "name": "stderr",
          "text": [
            "\n",
            "0it [00:00, ?it/s]\n",
            "1it [00:00, 28.76it/s]                  "
          ]
        },
        {
          "output_type": "stream",
          "name": "stdout",
          "text": [
            "lungmask 2024-07-02 05:33:10 Postprocessing\n"
          ]
        },
        {
          "output_type": "stream",
          "name": "stderr",
          "text": [
            "\n",
            "0it [00:00, ?it/s]\n",
            "1it [00:00, 29.06it/s]                  "
          ]
        },
        {
          "output_type": "stream",
          "name": "stdout",
          "text": [
            "lungmask 2024-07-02 05:33:11 Postprocessing\n"
          ]
        },
        {
          "output_type": "stream",
          "name": "stderr",
          "text": [
            "\n",
            "0it [00:00, ?it/s]\n",
            "1it [00:00, 27.91it/s]                  "
          ]
        },
        {
          "output_type": "stream",
          "name": "stdout",
          "text": [
            "lungmask 2024-07-02 05:33:11 Postprocessing\n"
          ]
        },
        {
          "output_type": "stream",
          "name": "stderr",
          "text": [
            "\n",
            "0it [00:00, ?it/s]\n",
            "1it [00:00, 29.19it/s]                  "
          ]
        },
        {
          "output_type": "stream",
          "name": "stdout",
          "text": [
            "lungmask 2024-07-02 05:33:11 Postprocessing\n"
          ]
        },
        {
          "output_type": "stream",
          "name": "stderr",
          "text": [
            "\n",
            "0it [00:00, ?it/s]\n",
            "1it [00:00, 28.18it/s]                  "
          ]
        },
        {
          "output_type": "stream",
          "name": "stdout",
          "text": [
            "lungmask 2024-07-02 05:33:12 Postprocessing\n"
          ]
        },
        {
          "output_type": "stream",
          "name": "stderr",
          "text": [
            "\n",
            "0it [00:00, ?it/s]\n",
            "1it [00:00, 28.94it/s]                  "
          ]
        },
        {
          "output_type": "stream",
          "name": "stdout",
          "text": [
            "lungmask 2024-07-02 05:33:12 Postprocessing\n"
          ]
        },
        {
          "output_type": "stream",
          "name": "stderr",
          "text": [
            "\n",
            "0it [00:00, ?it/s]\n",
            "1it [00:00, 28.80it/s]                  "
          ]
        },
        {
          "output_type": "stream",
          "name": "stdout",
          "text": [
            "lungmask 2024-07-02 05:33:12 Postprocessing\n"
          ]
        },
        {
          "output_type": "stream",
          "name": "stderr",
          "text": [
            "\n",
            "0it [00:00, ?it/s]\n",
            "1it [00:00, 28.95it/s]                  "
          ]
        },
        {
          "output_type": "stream",
          "name": "stdout",
          "text": [
            "lungmask 2024-07-02 05:33:12 Postprocessing\n"
          ]
        },
        {
          "output_type": "stream",
          "name": "stderr",
          "text": [
            "\n",
            "0it [00:00, ?it/s]\n",
            "1it [00:00, 28.84it/s]                  "
          ]
        },
        {
          "output_type": "stream",
          "name": "stdout",
          "text": [
            "lungmask 2024-07-02 05:33:12 Postprocessing\n"
          ]
        },
        {
          "output_type": "stream",
          "name": "stderr",
          "text": [
            "\n",
            "0it [00:00, ?it/s]\n",
            "1it [00:00, 28.75it/s]                  "
          ]
        },
        {
          "output_type": "stream",
          "name": "stdout",
          "text": [
            "lungmask 2024-07-02 05:33:12 Postprocessing\n"
          ]
        },
        {
          "output_type": "stream",
          "name": "stderr",
          "text": [
            "\n",
            "100%|██████████| 1/1 [00:00<00:00, 6213.78it/s]\n",
            "1it [00:00, 28.73it/s]                  "
          ]
        },
        {
          "output_type": "stream",
          "name": "stdout",
          "text": [
            "lungmask 2024-07-02 05:33:12 Postprocessing\n"
          ]
        },
        {
          "output_type": "stream",
          "name": "stderr",
          "text": [
            "\n",
            "100%|██████████| 2/2 [00:00<00:00, 1900.89it/s]\n",
            "1it [00:00, 28.04it/s]                  "
          ]
        },
        {
          "output_type": "stream",
          "name": "stdout",
          "text": [
            "lungmask 2024-07-02 05:33:12 Postprocessing\n"
          ]
        },
        {
          "output_type": "stream",
          "name": "stderr",
          "text": [
            "\n",
            "100%|██████████| 2/2 [00:00<00:00, 2141.04it/s]\n",
            "1it [00:00, 28.24it/s]                  "
          ]
        },
        {
          "output_type": "stream",
          "name": "stdout",
          "text": [
            "lungmask 2024-07-02 05:33:13 Postprocessing\n"
          ]
        },
        {
          "output_type": "stream",
          "name": "stderr",
          "text": [
            "\n",
            "100%|██████████| 2/2 [00:00<00:00, 8848.74it/s]\n",
            "1it [00:00, 27.50it/s]                  "
          ]
        },
        {
          "output_type": "stream",
          "name": "stdout",
          "text": [
            "lungmask 2024-07-02 05:33:13 Postprocessing\n"
          ]
        },
        {
          "output_type": "stream",
          "name": "stderr",
          "text": [
            "\n",
            "100%|██████████| 2/2 [00:00<00:00, 7483.15it/s]\n",
            "1it [00:00, 28.63it/s]                  "
          ]
        },
        {
          "output_type": "stream",
          "name": "stdout",
          "text": [
            "lungmask 2024-07-02 05:33:14 Postprocessing\n"
          ]
        },
        {
          "output_type": "stream",
          "name": "stderr",
          "text": [
            "\n",
            "100%|██████████| 2/2 [00:00<00:00, 1555.46it/s]\n",
            "1it [00:00, 28.57it/s]                  "
          ]
        },
        {
          "output_type": "stream",
          "name": "stdout",
          "text": [
            "lungmask 2024-07-02 05:33:14 Postprocessing\n"
          ]
        },
        {
          "output_type": "stream",
          "name": "stderr",
          "text": [
            "\n",
            "100%|██████████| 3/3 [00:00<00:00, 1843.38it/s]\n",
            "1it [00:00, 28.12it/s]                  "
          ]
        },
        {
          "output_type": "stream",
          "name": "stdout",
          "text": [
            "lungmask 2024-07-02 05:33:14 Postprocessing\n"
          ]
        },
        {
          "output_type": "stream",
          "name": "stderr",
          "text": [
            "\n",
            "100%|██████████| 3/3 [00:00<00:00, 1669.04it/s]\n",
            "1it [00:00, 28.55it/s]                  "
          ]
        },
        {
          "output_type": "stream",
          "name": "stdout",
          "text": [
            "lungmask 2024-07-02 05:33:15 Postprocessing\n"
          ]
        },
        {
          "output_type": "stream",
          "name": "stderr",
          "text": [
            "\n",
            "100%|██████████| 3/3 [00:00<00:00, 1971.32it/s]\n",
            "1it [00:00, 29.05it/s]                  "
          ]
        },
        {
          "output_type": "stream",
          "name": "stdout",
          "text": [
            "lungmask 2024-07-02 05:33:15 Postprocessing\n"
          ]
        },
        {
          "output_type": "stream",
          "name": "stderr",
          "text": [
            "\n",
            "100%|██████████| 2/2 [00:00<00:00, 9049.20it/s]\n",
            "1it [00:00, 29.09it/s]                  "
          ]
        },
        {
          "output_type": "stream",
          "name": "stdout",
          "text": [
            "lungmask 2024-07-02 05:33:15 Postprocessing\n"
          ]
        },
        {
          "output_type": "stream",
          "name": "stderr",
          "text": [
            "\n",
            "100%|██████████| 2/2 [00:00<00:00, 10420.63it/s]\n",
            "1it [00:00, 28.98it/s]                  "
          ]
        },
        {
          "output_type": "stream",
          "name": "stdout",
          "text": [
            "lungmask 2024-07-02 05:33:16 Postprocessing\n"
          ]
        },
        {
          "output_type": "stream",
          "name": "stderr",
          "text": [
            "\n",
            "100%|██████████| 4/4 [00:00<00:00, 2973.63it/s]\n",
            "1it [00:00, 27.85it/s]                  "
          ]
        },
        {
          "output_type": "stream",
          "name": "stdout",
          "text": [
            "lungmask 2024-07-02 05:33:16 Postprocessing\n"
          ]
        },
        {
          "output_type": "stream",
          "name": "stderr",
          "text": [
            "\n",
            "100%|██████████| 4/4 [00:00<00:00, 2014.80it/s]\n",
            "1it [00:00, 28.14it/s]                  "
          ]
        },
        {
          "output_type": "stream",
          "name": "stdout",
          "text": [
            "lungmask 2024-07-02 05:33:16 Postprocessing\n"
          ]
        },
        {
          "output_type": "stream",
          "name": "stderr",
          "text": [
            "\n",
            "100%|██████████| 3/3 [00:00<00:00, 3042.29it/s]\n",
            "1it [00:00, 29.07it/s]                  "
          ]
        },
        {
          "output_type": "stream",
          "name": "stdout",
          "text": [
            "lungmask 2024-07-02 05:33:17 Postprocessing\n"
          ]
        },
        {
          "output_type": "stream",
          "name": "stderr",
          "text": [
            "\n",
            "100%|██████████| 3/3 [00:00<00:00, 2969.07it/s]\n",
            "1it [00:00, 27.72it/s]                  "
          ]
        },
        {
          "output_type": "stream",
          "name": "stdout",
          "text": [
            "lungmask 2024-07-02 05:33:17 Postprocessing\n"
          ]
        },
        {
          "output_type": "stream",
          "name": "stderr",
          "text": [
            "\n",
            "100%|██████████| 4/4 [00:00<00:00, 1990.89it/s]\n",
            "1it [00:00, 28.95it/s]                  "
          ]
        },
        {
          "output_type": "stream",
          "name": "stdout",
          "text": [
            "lungmask 2024-07-02 05:33:18 Postprocessing\n"
          ]
        },
        {
          "output_type": "stream",
          "name": "stderr",
          "text": [
            "\n",
            "100%|██████████| 4/4 [00:00<00:00, 2704.26it/s]\n",
            "1it [00:00, 28.97it/s]                  "
          ]
        },
        {
          "output_type": "stream",
          "name": "stdout",
          "text": [
            "lungmask 2024-07-02 05:33:18 Postprocessing\n"
          ]
        },
        {
          "output_type": "stream",
          "name": "stderr",
          "text": [
            "\n",
            "100%|██████████| 4/4 [00:00<00:00, 2096.37it/s]\n",
            "1it [00:00, 28.37it/s]                  "
          ]
        },
        {
          "output_type": "stream",
          "name": "stdout",
          "text": [
            "lungmask 2024-07-02 05:33:18 Postprocessing\n"
          ]
        },
        {
          "output_type": "stream",
          "name": "stderr",
          "text": [
            "\n",
            "100%|██████████| 4/4 [00:00<00:00, 1731.93it/s]\n",
            "1it [00:00, 28.54it/s]                  "
          ]
        },
        {
          "output_type": "stream",
          "name": "stdout",
          "text": [
            "lungmask 2024-07-02 05:33:18 Postprocessing\n"
          ]
        },
        {
          "output_type": "stream",
          "name": "stderr",
          "text": [
            "\n",
            "100%|██████████| 3/3 [00:00<00:00, 1635.84it/s]\n",
            "1it [00:00, 28.95it/s]                  "
          ]
        },
        {
          "output_type": "stream",
          "name": "stdout",
          "text": [
            "lungmask 2024-07-02 05:33:19 Postprocessing\n"
          ]
        },
        {
          "output_type": "stream",
          "name": "stderr",
          "text": [
            "\n",
            "100%|██████████| 3/3 [00:00<00:00, 1763.79it/s]\n",
            "1it [00:00, 28.62it/s]                  "
          ]
        },
        {
          "output_type": "stream",
          "name": "stdout",
          "text": [
            "lungmask 2024-07-02 05:33:20 Postprocessing\n"
          ]
        },
        {
          "output_type": "stream",
          "name": "stderr",
          "text": [
            "\n",
            "100%|██████████| 2/2 [00:00<00:00, 2420.95it/s]\n",
            "1it [00:00, 28.30it/s]                  "
          ]
        },
        {
          "output_type": "stream",
          "name": "stdout",
          "text": [
            "lungmask 2024-07-02 05:33:20 Postprocessing\n"
          ]
        },
        {
          "output_type": "stream",
          "name": "stderr",
          "text": [
            "\n",
            "100%|██████████| 2/2 [00:00<00:00, 2562.97it/s]\n",
            "1it [00:00, 28.24it/s]                  "
          ]
        },
        {
          "output_type": "stream",
          "name": "stdout",
          "text": [
            "lungmask 2024-07-02 05:33:21 Postprocessing\n"
          ]
        },
        {
          "output_type": "stream",
          "name": "stderr",
          "text": [
            "\n",
            "100%|██████████| 2/2 [00:00<00:00, 2081.02it/s]\n",
            "1it [00:00, 28.53it/s]                  "
          ]
        },
        {
          "output_type": "stream",
          "name": "stdout",
          "text": [
            "lungmask 2024-07-02 05:33:21 Postprocessing\n"
          ]
        },
        {
          "output_type": "stream",
          "name": "stderr",
          "text": [
            "\n",
            "100%|██████████| 2/2 [00:00<00:00, 2359.00it/s]\n",
            "1it [00:00, 28.61it/s]                  "
          ]
        },
        {
          "output_type": "stream",
          "name": "stdout",
          "text": [
            "lungmask 2024-07-02 05:33:21 Postprocessing\n"
          ]
        },
        {
          "output_type": "stream",
          "name": "stderr",
          "text": [
            "\n",
            "100%|██████████| 2/2 [00:00<00:00, 3256.45it/s]\n",
            "1it [00:00, 28.97it/s]                  "
          ]
        },
        {
          "output_type": "stream",
          "name": "stdout",
          "text": [
            "lungmask 2024-07-02 05:33:22 Postprocessing\n"
          ]
        },
        {
          "output_type": "stream",
          "name": "stderr",
          "text": [
            "\n",
            "100%|██████████| 2/2 [00:00<00:00, 2933.08it/s]\n",
            "1it [00:00, 29.06it/s]                  "
          ]
        },
        {
          "output_type": "stream",
          "name": "stdout",
          "text": [
            "lungmask 2024-07-02 05:33:23 Postprocessing\n"
          ]
        },
        {
          "output_type": "stream",
          "name": "stderr",
          "text": [
            "\n",
            "100%|██████████| 2/2 [00:00<00:00, 8073.73it/s]\n",
            "1it [00:00, 28.90it/s]                  "
          ]
        },
        {
          "output_type": "stream",
          "name": "stdout",
          "text": [
            "lungmask 2024-07-02 05:33:23 Postprocessing\n"
          ]
        },
        {
          "output_type": "stream",
          "name": "stderr",
          "text": [
            "\n",
            "100%|██████████| 2/2 [00:00<00:00, 8738.13it/s]\n",
            "1it [00:00, 29.07it/s]                  "
          ]
        },
        {
          "output_type": "stream",
          "name": "stdout",
          "text": [
            "lungmask 2024-07-02 05:33:24 Postprocessing\n"
          ]
        },
        {
          "output_type": "stream",
          "name": "stderr",
          "text": [
            "\n",
            "100%|██████████| 2/2 [00:00<00:00, 9157.87it/s]\n",
            "1it [00:00, 28.39it/s]                  "
          ]
        },
        {
          "output_type": "stream",
          "name": "stdout",
          "text": [
            "lungmask 2024-07-02 05:33:24 Postprocessing\n"
          ]
        },
        {
          "output_type": "stream",
          "name": "stderr",
          "text": [
            "\n",
            "100%|██████████| 2/2 [00:00<00:00, 8648.05it/s]\n",
            "1it [00:00, 28.61it/s]                  "
          ]
        },
        {
          "output_type": "stream",
          "name": "stdout",
          "text": [
            "lungmask 2024-07-02 05:33:24 Postprocessing\n"
          ]
        },
        {
          "output_type": "stream",
          "name": "stderr",
          "text": [
            "\n",
            "100%|██████████| 2/2 [00:00<00:00, 2170.40it/s]\n",
            "1it [00:00, 28.27it/s]                  "
          ]
        },
        {
          "output_type": "stream",
          "name": "stdout",
          "text": [
            "lungmask 2024-07-02 05:33:25 Postprocessing\n"
          ]
        },
        {
          "output_type": "stream",
          "name": "stderr",
          "text": [
            "\n",
            "100%|██████████| 2/2 [00:00<00:00, 8050.49it/s]\n",
            "1it [00:00, 28.07it/s]                  "
          ]
        },
        {
          "output_type": "stream",
          "name": "stdout",
          "text": [
            "lungmask 2024-07-02 05:33:25 Postprocessing\n"
          ]
        },
        {
          "output_type": "stream",
          "name": "stderr",
          "text": [
            "\n",
            "100%|██████████| 2/2 [00:00<00:00, 7612.17it/s]\n",
            "1it [00:00, 28.50it/s]                  "
          ]
        },
        {
          "output_type": "stream",
          "name": "stdout",
          "text": [
            "lungmask 2024-07-02 05:33:25 Postprocessing\n"
          ]
        },
        {
          "output_type": "stream",
          "name": "stderr",
          "text": [
            "\n",
            "100%|██████████| 2/2 [00:00<00:00, 8586.09it/s]\n",
            "1it [00:00, 29.07it/s]                  "
          ]
        },
        {
          "output_type": "stream",
          "name": "stdout",
          "text": [
            "lungmask 2024-07-02 05:33:26 Postprocessing\n"
          ]
        },
        {
          "output_type": "stream",
          "name": "stderr",
          "text": [
            "\n",
            "100%|██████████| 2/2 [00:00<00:00, 7653.84it/s]\n",
            "1it [00:00, 29.10it/s]                  "
          ]
        },
        {
          "output_type": "stream",
          "name": "stdout",
          "text": [
            "lungmask 2024-07-02 05:33:26 Postprocessing\n"
          ]
        },
        {
          "output_type": "stream",
          "name": "stderr",
          "text": [
            "\n",
            "100%|██████████| 2/2 [00:00<00:00, 9467.95it/s]\n",
            "1it [00:00, 27.83it/s]                  "
          ]
        },
        {
          "output_type": "stream",
          "name": "stdout",
          "text": [
            "lungmask 2024-07-02 05:33:26 Postprocessing\n"
          ]
        },
        {
          "output_type": "stream",
          "name": "stderr",
          "text": [
            "\n",
            "100%|██████████| 3/3 [00:00<00:00, 1921.64it/s]\n",
            "1it [00:00, 28.54it/s]                  "
          ]
        },
        {
          "output_type": "stream",
          "name": "stdout",
          "text": [
            "lungmask 2024-07-02 05:33:27 Postprocessing\n"
          ]
        },
        {
          "output_type": "stream",
          "name": "stderr",
          "text": [
            "\n",
            "100%|██████████| 2/2 [00:00<00:00, 2744.96it/s]\n",
            "1it [00:00, 28.81it/s]                  "
          ]
        },
        {
          "output_type": "stream",
          "name": "stdout",
          "text": [
            "lungmask 2024-07-02 05:33:28 Postprocessing\n"
          ]
        },
        {
          "output_type": "stream",
          "name": "stderr",
          "text": [
            "\n",
            "100%|██████████| 2/2 [00:00<00:00, 2492.90it/s]\n",
            "1it [00:00, 28.68it/s]                  "
          ]
        },
        {
          "output_type": "stream",
          "name": "stdout",
          "text": [
            "lungmask 2024-07-02 05:33:28 Postprocessing\n"
          ]
        },
        {
          "output_type": "stream",
          "name": "stderr",
          "text": [
            "\n",
            "100%|██████████| 2/2 [00:00<00:00, 9709.04it/s]\n",
            "1it [00:00, 29.10it/s]                  "
          ]
        },
        {
          "output_type": "stream",
          "name": "stdout",
          "text": [
            "lungmask 2024-07-02 05:33:29 Postprocessing\n"
          ]
        },
        {
          "output_type": "stream",
          "name": "stderr",
          "text": [
            "\n",
            "100%|██████████| 2/2 [00:00<00:00, 7605.27it/s]\n",
            "1it [00:00, 27.96it/s]                  "
          ]
        },
        {
          "output_type": "stream",
          "name": "stdout",
          "text": [
            "lungmask 2024-07-02 05:33:29 Postprocessing\n"
          ]
        },
        {
          "output_type": "stream",
          "name": "stderr",
          "text": [
            "\n",
            "100%|██████████| 2/2 [00:00<00:00, 2381.77it/s]\n",
            "1it [00:00, 28.41it/s]                  "
          ]
        },
        {
          "output_type": "stream",
          "name": "stdout",
          "text": [
            "lungmask 2024-07-02 05:33:29 Postprocessing\n"
          ]
        },
        {
          "output_type": "stream",
          "name": "stderr",
          "text": [
            "\n",
            "100%|██████████| 2/2 [00:00<00:00, 2893.62it/s]\n",
            "1it [00:00, 28.56it/s]                  "
          ]
        },
        {
          "output_type": "stream",
          "name": "stdout",
          "text": [
            "lungmask 2024-07-02 05:33:29 Postprocessing\n"
          ]
        },
        {
          "output_type": "stream",
          "name": "stderr",
          "text": [
            "\n",
            "100%|██████████| 3/3 [00:00<00:00, 2525.17it/s]\n",
            "1it [00:00, 28.78it/s]                  "
          ]
        },
        {
          "output_type": "stream",
          "name": "stdout",
          "text": [
            "lungmask 2024-07-02 05:33:30 Postprocessing\n"
          ]
        },
        {
          "output_type": "stream",
          "name": "stderr",
          "text": [
            "\n",
            "100%|██████████| 2/2 [00:00<00:00, 1442.58it/s]\n",
            "1it [00:00, 28.58it/s]                  "
          ]
        },
        {
          "output_type": "stream",
          "name": "stdout",
          "text": [
            "lungmask 2024-07-02 05:33:31 Postprocessing\n"
          ]
        },
        {
          "output_type": "stream",
          "name": "stderr",
          "text": [
            "\n",
            "100%|██████████| 2/2 [00:00<00:00, 3111.50it/s]\n",
            "1it [00:00, 28.56it/s]                  "
          ]
        },
        {
          "output_type": "stream",
          "name": "stdout",
          "text": [
            "lungmask 2024-07-02 05:33:31 Postprocessing\n"
          ]
        },
        {
          "output_type": "stream",
          "name": "stderr",
          "text": [
            "\n",
            "100%|██████████| 2/2 [00:00<00:00, 2633.79it/s]\n",
            "1it [00:00, 28.59it/s]                  "
          ]
        },
        {
          "output_type": "stream",
          "name": "stdout",
          "text": [
            "lungmask 2024-07-02 05:33:32 Postprocessing\n"
          ]
        },
        {
          "output_type": "stream",
          "name": "stderr",
          "text": [
            "\n",
            "100%|██████████| 2/2 [00:00<00:00, 2511.56it/s]\n",
            "1it [00:00, 28.78it/s]                  "
          ]
        },
        {
          "output_type": "stream",
          "name": "stdout",
          "text": [
            "lungmask 2024-07-02 05:33:32 Postprocessing\n"
          ]
        },
        {
          "output_type": "stream",
          "name": "stderr",
          "text": [
            "\n",
            "100%|██████████| 2/2 [00:00<00:00, 2841.67it/s]\n",
            "1it [00:00, 28.55it/s]                  "
          ]
        },
        {
          "output_type": "stream",
          "name": "stdout",
          "text": [
            "lungmask 2024-07-02 05:33:32 Postprocessing\n"
          ]
        },
        {
          "output_type": "stream",
          "name": "stderr",
          "text": [
            "\n",
            "100%|██████████| 2/2 [00:00<00:00, 8719.97it/s]\n",
            "1it [00:00, 29.02it/s]                  "
          ]
        },
        {
          "output_type": "stream",
          "name": "stdout",
          "text": [
            "lungmask 2024-07-02 05:33:33 Postprocessing\n"
          ]
        },
        {
          "output_type": "stream",
          "name": "stderr",
          "text": [
            "\n",
            "100%|██████████| 2/2 [00:00<00:00, 8280.96it/s]\n",
            "1it [00:00, 28.72it/s]                  "
          ]
        },
        {
          "output_type": "stream",
          "name": "stdout",
          "text": [
            "lungmask 2024-07-02 05:33:33 Postprocessing\n"
          ]
        },
        {
          "output_type": "stream",
          "name": "stderr",
          "text": [
            "\n",
            "100%|██████████| 2/2 [00:00<00:00, 2717.40it/s]\n",
            "1it [00:00, 27.93it/s]                  "
          ]
        },
        {
          "output_type": "stream",
          "name": "stdout",
          "text": [
            "lungmask 2024-07-02 05:33:33 Postprocessing\n"
          ]
        },
        {
          "output_type": "stream",
          "name": "stderr",
          "text": [
            "\n",
            "100%|██████████| 2/2 [00:00<00:00, 1880.85it/s]\n",
            "1it [00:00, 28.18it/s]                  "
          ]
        },
        {
          "output_type": "stream",
          "name": "stdout",
          "text": [
            "lungmask 2024-07-02 05:33:34 Postprocessing\n"
          ]
        },
        {
          "output_type": "stream",
          "name": "stderr",
          "text": [
            "\n",
            "100%|██████████| 2/2 [00:00<00:00, 727.80it/s]\n",
            "1it [00:00, 28.48it/s]                  "
          ]
        },
        {
          "output_type": "stream",
          "name": "stdout",
          "text": [
            "lungmask 2024-07-02 05:33:34 Postprocessing\n"
          ]
        },
        {
          "output_type": "stream",
          "name": "stderr",
          "text": [
            "\n",
            "100%|██████████| 2/2 [00:00<00:00, 2428.66it/s]\n",
            "1it [00:00, 28.92it/s]                  "
          ]
        },
        {
          "output_type": "stream",
          "name": "stdout",
          "text": [
            "lungmask 2024-07-02 05:33:35 Postprocessing\n"
          ]
        },
        {
          "output_type": "stream",
          "name": "stderr",
          "text": [
            "\n",
            "100%|██████████| 2/2 [00:00<00:00, 1888.05it/s]\n",
            "1it [00:00, 26.58it/s]                  "
          ]
        },
        {
          "output_type": "stream",
          "name": "stdout",
          "text": [
            "lungmask 2024-07-02 05:33:35 Postprocessing\n"
          ]
        },
        {
          "output_type": "stream",
          "name": "stderr",
          "text": [
            "\n",
            "100%|██████████| 2/2 [00:00<00:00, 3315.66it/s]\n",
            "1it [00:00, 28.49it/s]                  "
          ]
        },
        {
          "output_type": "stream",
          "name": "stdout",
          "text": [
            "lungmask 2024-07-02 05:33:36 Postprocessing\n"
          ]
        },
        {
          "output_type": "stream",
          "name": "stderr",
          "text": [
            "\n",
            "100%|██████████| 2/2 [00:00<00:00, 2467.24it/s]\n",
            "1it [00:00, 28.34it/s]                  "
          ]
        },
        {
          "output_type": "stream",
          "name": "stdout",
          "text": [
            "lungmask 2024-07-02 05:33:37 Postprocessing\n"
          ]
        },
        {
          "output_type": "stream",
          "name": "stderr",
          "text": [
            "\n",
            "100%|██████████| 2/2 [00:00<00:00, 6250.83it/s]\n",
            "1it [00:00, 28.95it/s]                  "
          ]
        },
        {
          "output_type": "stream",
          "name": "stdout",
          "text": [
            "lungmask 2024-07-02 05:33:37 Postprocessing\n"
          ]
        },
        {
          "output_type": "stream",
          "name": "stderr",
          "text": [
            "\n",
            "100%|██████████| 2/2 [00:00<00:00, 2576.35it/s]\n",
            "1it [00:00, 28.66it/s]                  "
          ]
        },
        {
          "output_type": "stream",
          "name": "stdout",
          "text": [
            "lungmask 2024-07-02 05:33:38 Postprocessing\n"
          ]
        },
        {
          "output_type": "stream",
          "name": "stderr",
          "text": [
            "\n",
            "100%|██████████| 2/2 [00:00<00:00, 8430.76it/s]\n",
            "1it [00:00, 29.04it/s]                  "
          ]
        },
        {
          "output_type": "stream",
          "name": "stdout",
          "text": [
            "lungmask 2024-07-02 05:33:39 Postprocessing\n"
          ]
        },
        {
          "output_type": "stream",
          "name": "stderr",
          "text": [
            "\n",
            "100%|██████████| 2/2 [00:00<00:00, 8886.24it/s]\n",
            "1it [00:00, 28.44it/s]                  "
          ]
        },
        {
          "output_type": "stream",
          "name": "stdout",
          "text": [
            "lungmask 2024-07-02 05:33:39 Postprocessing\n"
          ]
        },
        {
          "output_type": "stream",
          "name": "stderr",
          "text": [
            "\n",
            "100%|██████████| 2/2 [00:00<00:00, 2860.08it/s]\n",
            "1it [00:00, 28.38it/s]                  "
          ]
        },
        {
          "output_type": "stream",
          "name": "stdout",
          "text": [
            "lungmask 2024-07-02 05:33:39 Postprocessing\n"
          ]
        },
        {
          "output_type": "stream",
          "name": "stderr",
          "text": [
            "\n",
            "100%|██████████| 2/2 [00:00<00:00, 1693.98it/s]\n",
            "1it [00:00, 28.79it/s]                  "
          ]
        },
        {
          "output_type": "stream",
          "name": "stdout",
          "text": [
            "lungmask 2024-07-02 05:33:39 Postprocessing\n"
          ]
        },
        {
          "output_type": "stream",
          "name": "stderr",
          "text": [
            "\n",
            "100%|██████████| 2/2 [00:00<00:00, 8313.78it/s]\n",
            "1it [00:00, 28.29it/s]                  "
          ]
        },
        {
          "output_type": "stream",
          "name": "stdout",
          "text": [
            "lungmask 2024-07-02 05:33:40 Postprocessing\n"
          ]
        },
        {
          "output_type": "stream",
          "name": "stderr",
          "text": [
            "\n",
            "100%|██████████| 2/2 [00:00<00:00, 8933.55it/s]\n",
            "1it [00:00, 28.84it/s]                  "
          ]
        },
        {
          "output_type": "stream",
          "name": "stdout",
          "text": [
            "lungmask 2024-07-02 05:33:40 Postprocessing\n"
          ]
        },
        {
          "output_type": "stream",
          "name": "stderr",
          "text": [
            "\n",
            "100%|██████████| 2/2 [00:00<00:00, 8886.24it/s]\n",
            "1it [00:00, 28.44it/s]                  "
          ]
        },
        {
          "output_type": "stream",
          "name": "stdout",
          "text": [
            "lungmask 2024-07-02 05:33:41 Postprocessing\n"
          ]
        },
        {
          "output_type": "stream",
          "name": "stderr",
          "text": [
            "\n",
            "100%|██████████| 2/2 [00:00<00:00, 1867.04it/s]\n",
            "1it [00:00, 27.99it/s]                  "
          ]
        },
        {
          "output_type": "stream",
          "name": "stdout",
          "text": [
            "lungmask 2024-07-02 05:33:42 Postprocessing\n"
          ]
        },
        {
          "output_type": "stream",
          "name": "stderr",
          "text": [
            "\n",
            "100%|██████████| 2/2 [00:00<00:00, 3019.66it/s]\n",
            "1it [00:00, 28.45it/s]                  "
          ]
        },
        {
          "output_type": "stream",
          "name": "stdout",
          "text": [
            "lungmask 2024-07-02 05:33:42 Postprocessing\n"
          ]
        },
        {
          "output_type": "stream",
          "name": "stderr",
          "text": [
            "\n",
            "100%|██████████| 2/2 [00:00<00:00, 2620.62it/s]\n",
            "1it [00:00, 29.00it/s]                  "
          ]
        },
        {
          "output_type": "stream",
          "name": "stdout",
          "text": [
            "lungmask 2024-07-02 05:33:42 Postprocessing\n"
          ]
        },
        {
          "output_type": "stream",
          "name": "stderr",
          "text": [
            "\n",
            "100%|██████████| 2/2 [00:00<00:00, 8905.10it/s]\n",
            "1it [00:00, 28.58it/s]                  "
          ]
        },
        {
          "output_type": "stream",
          "name": "stdout",
          "text": [
            "lungmask 2024-07-02 05:33:43 Postprocessing\n"
          ]
        },
        {
          "output_type": "stream",
          "name": "stderr",
          "text": [
            "\n",
            "100%|██████████| 2/2 [00:00<00:00, 3028.38it/s]\n",
            "1it [00:00, 27.40it/s]                  "
          ]
        },
        {
          "output_type": "stream",
          "name": "stdout",
          "text": [
            "lungmask 2024-07-02 05:33:44 Postprocessing\n"
          ]
        },
        {
          "output_type": "stream",
          "name": "stderr",
          "text": [
            "\n",
            "100%|██████████| 2/2 [00:00<00:00, 2332.11it/s]\n",
            "1it [00:00, 28.90it/s]                  "
          ]
        },
        {
          "output_type": "stream",
          "name": "stdout",
          "text": [
            "lungmask 2024-07-02 05:33:45 Postprocessing\n"
          ]
        },
        {
          "output_type": "stream",
          "name": "stderr",
          "text": [
            "\n",
            "100%|██████████| 2/2 [00:00<00:00, 2349.75it/s]\n",
            "1it [00:00, 28.43it/s]                  "
          ]
        },
        {
          "output_type": "stream",
          "name": "stdout",
          "text": [
            "lungmask 2024-07-02 05:33:46 Postprocessing\n"
          ]
        },
        {
          "output_type": "stream",
          "name": "stderr",
          "text": [
            "\n",
            "100%|██████████| 2/2 [00:00<00:00, 7796.10it/s]\n",
            "1it [00:00, 28.45it/s]                  "
          ]
        },
        {
          "output_type": "stream",
          "name": "stdout",
          "text": [
            "lungmask 2024-07-02 05:33:46 Postprocessing\n"
          ]
        },
        {
          "output_type": "stream",
          "name": "stderr",
          "text": [
            "\n",
            "100%|██████████| 2/2 [00:00<00:00, 9521.69it/s]\n",
            "1it [00:00, 28.40it/s]                  "
          ]
        },
        {
          "output_type": "stream",
          "name": "stdout",
          "text": [
            "lungmask 2024-07-02 05:33:46 Postprocessing\n"
          ]
        },
        {
          "output_type": "stream",
          "name": "stderr",
          "text": [
            "\n",
            "100%|██████████| 2/2 [00:00<00:00, 2552.06it/s]\n",
            "1it [00:00, 28.42it/s]                  "
          ]
        },
        {
          "output_type": "stream",
          "name": "stdout",
          "text": [
            "lungmask 2024-07-02 05:33:47 Postprocessing\n"
          ]
        },
        {
          "output_type": "stream",
          "name": "stderr",
          "text": [
            "\n",
            "100%|██████████| 2/2 [00:00<00:00, 3450.68it/s]\n",
            "1it [00:00, 28.21it/s]                  "
          ]
        },
        {
          "output_type": "stream",
          "name": "stdout",
          "text": [
            "lungmask 2024-07-02 05:33:48 Postprocessing\n"
          ]
        },
        {
          "output_type": "stream",
          "name": "stderr",
          "text": [
            "\n",
            "100%|██████████| 2/2 [00:00<00:00, 2885.66it/s]\n",
            "1it [00:00, 28.26it/s]                  "
          ]
        },
        {
          "output_type": "stream",
          "name": "stdout",
          "text": [
            "lungmask 2024-07-02 05:33:48 Postprocessing\n"
          ]
        },
        {
          "output_type": "stream",
          "name": "stderr",
          "text": [
            "\n",
            "100%|██████████| 2/2 [00:00<00:00, 1312.98it/s]\n",
            "1it [00:00, 26.74it/s]                  "
          ]
        },
        {
          "output_type": "stream",
          "name": "stdout",
          "text": [
            "lungmask 2024-07-02 05:33:49 Postprocessing\n"
          ]
        },
        {
          "output_type": "stream",
          "name": "stderr",
          "text": [
            "\n",
            "100%|██████████| 2/2 [00:00<00:00, 2933.08it/s]\n",
            "1it [00:00, 28.45it/s]                  "
          ]
        },
        {
          "output_type": "stream",
          "name": "stdout",
          "text": [
            "lungmask 2024-07-02 05:33:49 Postprocessing\n"
          ]
        },
        {
          "output_type": "stream",
          "name": "stderr",
          "text": [
            "\n",
            "0it [00:00, ?it/s]\n",
            "1it [00:00, 27.71it/s]                  "
          ]
        },
        {
          "output_type": "stream",
          "name": "stdout",
          "text": [
            "lungmask 2024-07-02 05:33:50 Postprocessing\n"
          ]
        },
        {
          "output_type": "stream",
          "name": "stderr",
          "text": [
            "\n",
            "0it [00:00, ?it/s]\n",
            "1it [00:00, 28.80it/s]                  "
          ]
        },
        {
          "output_type": "stream",
          "name": "stdout",
          "text": [
            "lungmask 2024-07-02 05:33:50 Postprocessing\n"
          ]
        },
        {
          "output_type": "stream",
          "name": "stderr",
          "text": [
            "\n",
            "0it [00:00, ?it/s]\n",
            "1it [00:00, 28.47it/s]                  "
          ]
        },
        {
          "output_type": "stream",
          "name": "stdout",
          "text": [
            "lungmask 2024-07-02 05:33:50 Postprocessing\n"
          ]
        },
        {
          "output_type": "stream",
          "name": "stderr",
          "text": [
            "\n",
            "0it [00:00, ?it/s]\n",
            "1it [00:00, 28.29it/s]                  "
          ]
        },
        {
          "output_type": "stream",
          "name": "stdout",
          "text": [
            "lungmask 2024-07-02 05:33:50 Postprocessing\n"
          ]
        },
        {
          "output_type": "stream",
          "name": "stderr",
          "text": [
            "\n",
            "0it [00:00, ?it/s]\n",
            "1it [00:00, 28.96it/s]                  "
          ]
        },
        {
          "output_type": "stream",
          "name": "stdout",
          "text": [
            "lungmask 2024-07-02 05:33:50 Postprocessing\n"
          ]
        },
        {
          "output_type": "stream",
          "name": "stderr",
          "text": [
            "\n",
            "0it [00:00, ?it/s]\n",
            "1it [00:00, 28.88it/s]                  "
          ]
        },
        {
          "output_type": "stream",
          "name": "stdout",
          "text": [
            "lungmask 2024-07-02 05:33:51 Postprocessing\n"
          ]
        },
        {
          "output_type": "stream",
          "name": "stderr",
          "text": [
            "\n",
            "0it [00:00, ?it/s]\n",
            "1it [00:00, 27.72it/s]                  "
          ]
        },
        {
          "output_type": "stream",
          "name": "stdout",
          "text": [
            "lungmask 2024-07-02 05:33:51 Postprocessing\n"
          ]
        },
        {
          "output_type": "stream",
          "name": "stderr",
          "text": [
            "\n",
            "0it [00:00, ?it/s]\n",
            "1it [00:00, 28.24it/s]                  "
          ]
        },
        {
          "output_type": "stream",
          "name": "stdout",
          "text": [
            "lungmask 2024-07-02 05:33:51 Postprocessing\n"
          ]
        },
        {
          "output_type": "stream",
          "name": "stderr",
          "text": [
            "\n",
            "0it [00:00, ?it/s]\n",
            "1it [00:00, 29.00it/s]                  "
          ]
        },
        {
          "output_type": "stream",
          "name": "stdout",
          "text": [
            "lungmask 2024-07-02 05:33:52 Postprocessing\n"
          ]
        },
        {
          "output_type": "stream",
          "name": "stderr",
          "text": [
            "\n",
            "0it [00:00, ?it/s]\n",
            "1it [00:00, 28.26it/s]                  "
          ]
        },
        {
          "output_type": "stream",
          "name": "stdout",
          "text": [
            "lungmask 2024-07-02 05:33:52 Postprocessing\n"
          ]
        },
        {
          "output_type": "stream",
          "name": "stderr",
          "text": [
            "\n",
            "0it [00:00, ?it/s]\n",
            "1it [00:00, 29.01it/s]                  "
          ]
        },
        {
          "output_type": "stream",
          "name": "stdout",
          "text": [
            "lungmask 2024-07-02 05:33:52 Postprocessing\n"
          ]
        },
        {
          "output_type": "stream",
          "name": "stderr",
          "text": [
            "\n",
            "0it [00:00, ?it/s]\n",
            "1it [00:00, 28.43it/s]                  \n"
          ]
        },
        {
          "output_type": "stream",
          "name": "stdout",
          "text": [
            "lungmask 2024-07-02 05:33:52 Postprocessing\n"
          ]
        },
        {
          "output_type": "stream",
          "name": "stderr",
          "text": [
            "0it [00:00, ?it/s]\n",
            "1it [00:00, 29.03it/s]                  "
          ]
        },
        {
          "output_type": "stream",
          "name": "stdout",
          "text": [
            "lungmask 2024-07-02 05:33:53 Postprocessing\n"
          ]
        },
        {
          "output_type": "stream",
          "name": "stderr",
          "text": [
            "\n",
            "0it [00:00, ?it/s]\n",
            "1it [00:00, 28.98it/s]                  "
          ]
        },
        {
          "output_type": "stream",
          "name": "stdout",
          "text": [
            "lungmask 2024-07-02 05:33:53 Postprocessing\n"
          ]
        },
        {
          "output_type": "stream",
          "name": "stderr",
          "text": [
            "\n",
            "0it [00:00, ?it/s]\n",
            "1it [00:00, 29.11it/s]                  "
          ]
        },
        {
          "output_type": "stream",
          "name": "stdout",
          "text": [
            "lungmask 2024-07-02 05:33:53 Postprocessing\n"
          ]
        },
        {
          "output_type": "stream",
          "name": "stderr",
          "text": [
            "\n",
            "0it [00:00, ?it/s]\n",
            "1it [00:00, 28.04it/s]                  "
          ]
        },
        {
          "output_type": "stream",
          "name": "stdout",
          "text": [
            "lungmask 2024-07-02 05:33:53 Postprocessing\n"
          ]
        },
        {
          "output_type": "stream",
          "name": "stderr",
          "text": [
            "\n",
            "0it [00:00, ?it/s]\n",
            "1it [00:00, 28.95it/s]                  "
          ]
        },
        {
          "output_type": "stream",
          "name": "stdout",
          "text": [
            "lungmask 2024-07-02 05:33:54 Postprocessing\n"
          ]
        },
        {
          "output_type": "stream",
          "name": "stderr",
          "text": [
            "\n",
            "0it [00:00, ?it/s]\n",
            "1it [00:00, 28.43it/s]                  "
          ]
        },
        {
          "output_type": "stream",
          "name": "stdout",
          "text": [
            "lungmask 2024-07-02 05:33:54 Postprocessing\n"
          ]
        },
        {
          "output_type": "stream",
          "name": "stderr",
          "text": [
            "\n",
            "0it [00:00, ?it/s]\n",
            "1it [00:00, 29.05it/s]                  "
          ]
        },
        {
          "output_type": "stream",
          "name": "stdout",
          "text": [
            "lungmask 2024-07-02 05:33:54 Postprocessing\n"
          ]
        },
        {
          "output_type": "stream",
          "name": "stderr",
          "text": [
            "\n",
            "0it [00:00, ?it/s]\n",
            "1it [00:00, 28.96it/s]                  "
          ]
        },
        {
          "output_type": "stream",
          "name": "stdout",
          "text": [
            "lungmask 2024-07-02 05:33:55 Postprocessing\n"
          ]
        },
        {
          "output_type": "stream",
          "name": "stderr",
          "text": [
            "\n",
            "0it [00:00, ?it/s]\n",
            "1it [00:00, 28.95it/s]                  "
          ]
        },
        {
          "output_type": "stream",
          "name": "stdout",
          "text": [
            "lungmask 2024-07-02 05:33:55 Postprocessing\n"
          ]
        },
        {
          "output_type": "stream",
          "name": "stderr",
          "text": [
            "\n",
            "100%|██████████| 1/1 [00:00<00:00, 6123.07it/s]\n",
            "1it [00:00, 28.75it/s]                  "
          ]
        },
        {
          "output_type": "stream",
          "name": "stdout",
          "text": [
            "lungmask 2024-07-02 05:33:55 Postprocessing\n"
          ]
        },
        {
          "output_type": "stream",
          "name": "stderr",
          "text": [
            "\n",
            "100%|██████████| 1/1 [00:00<00:00, 3063.77it/s]\n",
            "1it [00:00, 29.03it/s]                  "
          ]
        },
        {
          "output_type": "stream",
          "name": "stdout",
          "text": [
            "lungmask 2024-07-02 05:33:56 Postprocessing\n"
          ]
        },
        {
          "output_type": "stream",
          "name": "stderr",
          "text": [
            "\n",
            "0it [00:00, ?it/s]\n",
            "1it [00:00, 28.42it/s]                  "
          ]
        },
        {
          "output_type": "stream",
          "name": "stdout",
          "text": [
            "lungmask 2024-07-02 05:33:56 Postprocessing\n"
          ]
        },
        {
          "output_type": "stream",
          "name": "stderr",
          "text": [
            "\n",
            "100%|██████████| 1/1 [00:00<00:00, 1789.38it/s]\n",
            "1it [00:00, 29.01it/s]                  "
          ]
        },
        {
          "output_type": "stream",
          "name": "stdout",
          "text": [
            "lungmask 2024-07-02 05:33:56 Postprocessing\n"
          ]
        },
        {
          "output_type": "stream",
          "name": "stderr",
          "text": [
            "\n",
            "100%|██████████| 1/1 [00:00<00:00, 6754.11it/s]\n",
            "1it [00:00, 28.81it/s]                  "
          ]
        },
        {
          "output_type": "stream",
          "name": "stdout",
          "text": [
            "lungmask 2024-07-02 05:33:56 Postprocessing\n"
          ]
        },
        {
          "output_type": "stream",
          "name": "stderr",
          "text": [
            "\n",
            "100%|██████████| 1/1 [00:00<00:00, 6472.69it/s]\n",
            "1it [00:00, 28.85it/s]                  "
          ]
        },
        {
          "output_type": "stream",
          "name": "stdout",
          "text": [
            "lungmask 2024-07-02 05:33:56 Postprocessing\n"
          ]
        },
        {
          "output_type": "stream",
          "name": "stderr",
          "text": [
            "\n",
            "100%|██████████| 1/1 [00:00<00:00, 3855.06it/s]\n",
            "1it [00:00, 28.40it/s]                  "
          ]
        },
        {
          "output_type": "stream",
          "name": "stdout",
          "text": [
            "lungmask 2024-07-02 05:33:57 Postprocessing\n"
          ]
        },
        {
          "output_type": "stream",
          "name": "stderr",
          "text": [
            "\n",
            "0it [00:00, ?it/s]\n"
          ]
        },
        {
          "output_type": "stream",
          "name": "stdout",
          "text": [
            "(130, 1, 512, 512)\n",
            "(130, 512, 512)\n",
            "(512, 512, 130)\n"
          ]
        },
        {
          "output_type": "execute_result",
          "data": {
            "text/plain": [
              "array([-1000,  -999,  -998, ...,   659,   662,   667], dtype=int32)"
            ]
          },
          "metadata": {},
          "execution_count": 5
        }
      ]
    },
    {
      "cell_type": "markdown",
      "source": [
        "# UI for the User"
      ],
      "metadata": {
        "id": "QoWdrqy66G8q"
      }
    },
    {
      "cell_type": "code",
      "source": [
        "import gradio as gr\n",
        "import numpy as np\n",
        "from skimage import measure\n",
        "from stl import mesh\n",
        "import plotly.graph_objects as go\n",
        "\n",
        "z_shape = lung_with_hu.shape[2]  # Assuming Z is the longest axis\n",
        "\n",
        "# Function to create a sphere (tumor)\n",
        "def create_sphere(x_center, y_center, z_center, radius):\n",
        "    \"\"\"Creates a 3D sphere volume with random values.\"\"\"\n",
        "    x_grid, y_grid, z_grid = np.mgrid[:512, :512, :z_shape]  # Assuming 512x512\n",
        "    distance = np.sqrt((x_grid - x_center)**2 + (y_grid - y_center)**2 + (z_grid - z_center)**2)\n",
        "    sphere_mask = distance <= radius\n",
        "    sphere_values = np.random.normal(loc=23, scale=147, size=sphere_mask.shape)  # Adjust mean and std as needed\n",
        "    volume_3d = np.zeros((512, 512, z_shape))\n",
        "    volume_3d = np.where(sphere_mask, sphere_values, volume_3d)\n",
        "    return volume_3d\n",
        "\n",
        "# Function to create a hexagon (fibrosis)\n",
        "def create_hexagon(center_x, center_y, center_z, radius):\n",
        "    \"\"\"Creates a 3D hexagonal prism with random values.\"\"\"\n",
        "    x_grid, y_grid, z_grid = np.mgrid[:512, :512, :z_shape]\n",
        "    height = 10\n",
        "    distance_xy = np.sqrt((x_grid - center_x)**2 + (y_grid - center_y)**2)\n",
        "    angle = np.arctan2(y_grid - center_y, x_grid - center_x)\n",
        "    hexagon_mask = (distance_xy <= radius) & (np.abs(np.cos(6*angle)) >= 0.5)\n",
        "    z_min = center_z - height / 2\n",
        "    z_max = center_z + height / 2\n",
        "    hexagon_mask &= (z_grid >= z_min) & (z_grid <= z_max)\n",
        "    hexagon_values = np.random.normal(loc=-294, scale=261, size=(np.count_nonzero(hexagon_mask)))  # Adjust mean and std\n",
        "    volume_3d = np.zeros((512, 512, z_shape))\n",
        "    volume_3d[hexagon_mask] = hexagon_values\n",
        "    return volume_3d\n",
        "\n",
        "# Function  to calculate mean infill from the volume\n",
        "def calculate_mean(volume):\n",
        "  mask = volume != 0\n",
        "  mean_excluding_zeros = np.mean(volume[mask])\n",
        "  mean_excluding_zeros\n",
        "  return mean_excluding_zeros\n",
        "\n",
        "# Function to calculate infill density from hu values\n",
        "def hu_to_density(hu_value):\n",
        "    a = -1013.56  # Intercept\n",
        "    b = 10.39275  # Slope\n",
        "    infill_percentage = (hu_value - a) / b\n",
        "    infill_percentage = np.clip(infill_percentage, 0, 100)  # Clip to valid range\n",
        "    return infill_percentage\n",
        "\n",
        "# Function to generate and display the structure\n",
        "def generate_structure(structure_type, x_center, y_center, z_center, radius):\n",
        "    \"\"\"Generates and displays the selected structure within the lung volume.\"\"\"\n",
        "    if structure_type == \"Tumor\":\n",
        "        volume_3d = create_sphere(x_center, y_center, z_center, radius)\n",
        "        struct_color = 'red'\n",
        "    elif structure_type == \"Fibrosis\":\n",
        "        volume_3d = create_hexagon(x_center, y_center, z_center, radius)\n",
        "        struct_color = \"limegreen\"\n",
        "    else:\n",
        "        raise ValueError(\"Invalid structure type\")\n",
        "\n",
        "    # let's find vertices and faces for Lung\n",
        "    lung_verts, lung_faces, _, _ = measure.marching_cubes(lung_with_hu)\n",
        "    # now let's build the mesh\n",
        "    mesh_plot_lung = go.Mesh3d(\n",
        "        x=lung_verts[:, 0], y=lung_verts[:, 1], z=lung_verts[:, 2],\n",
        "        i=lung_faces[:, 0], j=lung_faces[:, 1], k=lung_faces[:, 2],\n",
        "        opacity=0.2, color='blue'  # Adjust color and opacity as needed\n",
        "    )\n",
        "\n",
        "    # Create Plotly figure\n",
        "    lung_fig = go.Figure(data=[mesh_plot_lung])\n",
        "    lung_fig.update_layout(scene_aspectmode='data')\n",
        "\n",
        "    # Create STL file and return as downloadable\n",
        "    stl_filename_lung = \"lung.stl\"\n",
        "    mesh_obj = mesh.Mesh(np.zeros(lung_faces.shape[0], dtype=mesh.Mesh.dtype))\n",
        "    for i, f in enumerate(lung_faces):\n",
        "        mesh_obj.vectors[i] = lung_verts[f]\n",
        "    mesh_obj.save(stl_filename_lung)\n",
        "    # Let's find the mean hu and it's infill density\n",
        "    mean_hu_lung = calculate_mean(lung_with_hu)\n",
        "    infill_density_lung = hu_to_density(mean_hu_lung)\n",
        "    lung_mean_infill = f'Mean HU of Lung {mean_hu_lung:.2f} and corresponding Infill %{infill_density_lung:.2f}'\n",
        "    # now let's do it for the structure\n",
        "    struct_verts, struct_faces, _, _ = measure.marching_cubes(volume_3d)\n",
        "\n",
        "    # Create Plotly mesh object\n",
        "    mesh_plot_struct = go.Mesh3d(\n",
        "        x=struct_verts[:, 0], y=struct_verts[:, 1], z=struct_verts[:, 2],\n",
        "        i=struct_faces[:, 0], j=struct_faces[:, 1], k=struct_faces[:, 2],\n",
        "        opacity=0.7, color=struct_color  # Adjust color and opacity as needed\n",
        "    )\n",
        "\n",
        "    # Create Plotly figure\n",
        "    struct_fig = go.Figure(data=[mesh_plot_struct])\n",
        "    struct_fig.update_layout(scene_aspectmode='data')\n",
        "\n",
        "    # Create STL file and return as downloadable\n",
        "    stl_filename_struct = f\"{structure_type.lower()}_structure.stl\"\n",
        "    mesh_obj = mesh.Mesh(np.zeros(struct_faces.shape[0], dtype=mesh.Mesh.dtype))\n",
        "    for i, f in enumerate(struct_faces):\n",
        "        mesh_obj.vectors[i] = struct_verts[f]\n",
        "    mesh_obj.save(stl_filename_struct)\n",
        "\n",
        "    # Let's find the mean hu and it's infill density\n",
        "    mean_hu_struct = calculate_mean(volume_3d)\n",
        "    infill_density_struct = hu_to_density(mean_hu_struct)\n",
        "    struct_mean_infill = f'Mean HU of {structure_type} {mean_hu_struct:.2f} and corresponding Infill %{infill_density_struct:.2f}'\n",
        "\n",
        "    # let's combine both\n",
        "    combined_array = np.where(volume_3d == 0, lung_with_hu, volume_3d)\n",
        "    verts, faces, _, _ = measure.marching_cubes(combined_array)\n",
        "\n",
        "    # Create Plotly mesh object\n",
        "    mesh_plot_combined = go.Mesh3d(\n",
        "        x=verts[:, 0], y=verts[:, 1], z=verts[:, 2],\n",
        "        i=faces[:, 0], j=faces[:, 1], k=faces[:, 2],\n",
        "        opacity=0.2, color='blue'  # Adjust color and opacity as needed\n",
        "    )\n",
        "\n",
        "    # Create Plotly figure\n",
        "    fig_comb = go.Figure(data=[mesh_plot_combined])\n",
        "    fig_comb.update_layout(scene_aspectmode='data')\n",
        "\n",
        "    # Create STL file and return as downloadable\n",
        "    stl_filename_comb = f\"{structure_type.lower()}_structure_inserted.stl\"\n",
        "    mesh_obj = mesh.Mesh(np.zeros(faces.shape[0], dtype=mesh.Mesh.dtype))\n",
        "    for i, f in enumerate(faces):\n",
        "        mesh_obj.vectors[i] = verts[f]\n",
        "    mesh_obj.save(stl_filename_comb)\n",
        "\n",
        "    return lung_fig, stl_filename_lung, lung_mean_infill, struct_fig, stl_filename_struct, struct_mean_infill, fig_comb, stl_filename_comb\n",
        "\n",
        "# Gradio Interface\n",
        "with gr.Blocks() as iface:\n",
        "    # Input Components\n",
        "    structure_type = gr.Dropdown([\"Tumor\", \"Fibrosis\"], label=\"Structure Type\")\n",
        "    x_center = gr.Slider(0, 512, label=\"X Center\", value=365)\n",
        "    y_center = gr.Slider(0, 512, label=\"Y Center\", value=274)\n",
        "    z_center = gr.Slider(0, z_shape, label=\"Z Center\", value=70)\n",
        "    radius = gr.Slider(1, 15, label=\"Radius\", value=10)\n",
        "\n",
        "    # Submit Button\n",
        "    submit_button = gr.Button(\"Generate Structure\")\n",
        "\n",
        "    # Output Components\n",
        "    ## lung part\n",
        "    lung_plot_output = gr.Plot(label=\"3D Visualization of Lung\")\n",
        "    stl_output_lung = gr.File(label=\"Download Lung STL\")\n",
        "    lung_mean_hu_output = gr.Textbox(label=\"Lung Mean HU and corresponding Infill\")\n",
        "\n",
        "    ## Phatom part\n",
        "    struct_plot_output = gr.Plot(label=\"3D Visualization of Phantom\")\n",
        "    stl_output_struct = gr.File(label=\"Download Phantom STL\")\n",
        "    struct_mean_hu_output = gr.Textbox(label=\"Phantom Mean HU and corresponding Infill\")\n",
        "\n",
        "    ## Combined part\n",
        "    comb_plot_output = gr.Plot(label=\"3D Visualization of phantom in lung\")\n",
        "    stl_output_combined = gr.File(label=\"Download Combined STL\")\n",
        "\n",
        "    # Event Handling\n",
        "    submit_button.click(\n",
        "        fn=generate_structure,\n",
        "        inputs=[structure_type, x_center, y_center, z_center, radius],\n",
        "        outputs=[lung_plot_output, stl_output_lung, lung_mean_hu_output,struct_plot_output, stl_output_struct,\n",
        "                 struct_mean_hu_output, comb_plot_output, stl_output_combined]\n",
        "        )\n",
        "\n",
        "iface.launch(debug=True)"
      ],
      "metadata": {
        "colab": {
          "base_uri": "https://localhost:8080/",
          "height": 670
        },
        "id": "FDfTNx4v6Gbx",
        "outputId": "7c43648a-d35a-4bd0-af10-1646ac1a8aed"
      },
      "execution_count": 6,
      "outputs": [
        {
          "output_type": "stream",
          "name": "stdout",
          "text": [
            "Setting queue=True in a Colab notebook requires sharing enabled. Setting `share=True` (you can turn this off by setting `share=False` in `launch()` explicitly).\n",
            "\n",
            "Colab notebook detected. This cell will run indefinitely so that you can see errors and logs. To turn off, set debug=False in launch().\n",
            "Running on public URL: https://2f51736178f38ac999.gradio.live\n",
            "\n",
            "This share link expires in 72 hours. For free permanent hosting and GPU upgrades, run `gradio deploy` from Terminal to deploy to Spaces (https://huggingface.co/spaces)\n"
          ]
        },
        {
          "output_type": "display_data",
          "data": {
            "text/plain": [
              "<IPython.core.display.HTML object>"
            ],
            "text/html": [
              "<div><iframe src=\"https://2f51736178f38ac999.gradio.live\" width=\"100%\" height=\"500\" allow=\"autoplay; camera; microphone; clipboard-read; clipboard-write;\" frameborder=\"0\" allowfullscreen></iframe></div>"
            ]
          },
          "metadata": {}
        },
        {
          "output_type": "stream",
          "name": "stdout",
          "text": [
            "Keyboard interruption in main thread... closing server.\n",
            "Killing tunnel 127.0.0.1:7860 <> https://2f51736178f38ac999.gradio.live\n"
          ]
        },
        {
          "output_type": "execute_result",
          "data": {
            "text/plain": []
          },
          "metadata": {},
          "execution_count": 6
        }
      ]
    }
  ]
}